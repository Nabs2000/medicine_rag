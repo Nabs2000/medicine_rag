{
 "cells": [
  {
   "metadata": {},
   "cell_type": "markdown",
   "source": "## Necessary Imports",
   "id": "8acae9d1ce6c89ed"
  },
  {
   "metadata": {
    "ExecuteTime": {
     "end_time": "2024-06-30T06:46:36.443373Z",
     "start_time": "2024-06-30T06:46:31.901933Z"
    }
   },
   "cell_type": "code",
   "source": [
    "from dotenv import load_dotenv\n",
    "from llama_index.experimental.query_engine import PandasQueryEngine\n",
    "from prompts import new_prompt, instruction_str\n",
    "import pathlib\n",
    "import requests\n",
    "import pandas as pd"
   ],
   "id": "119d634c2b4829fd",
   "outputs": [],
   "execution_count": 1
  },
  {
   "metadata": {},
   "cell_type": "markdown",
   "source": "## Data Preprocessing",
   "id": "e7038a2046294a47"
  },
  {
   "metadata": {
    "ExecuteTime": {
     "end_time": "2024-06-30T06:46:39.688531Z",
     "start_time": "2024-06-30T06:46:39.579438Z"
    }
   },
   "cell_type": "code",
   "source": [
    "# Read the data as a DataFrame\n",
    "medicines = pd.read_csv('data/medicine_dataset.csv')\n",
    "# Drop any rows with missing values\n",
    "medicines = medicines.dropna()\n",
    "# Print out the first 5 rows of the data\n",
    "medicines.head()"
   ],
   "id": "bd503269d943ae46",
   "outputs": [
    {
     "data": {
      "text/plain": [
       "           Name      Category Dosage Form Strength  \\\n",
       "0   Acetocillin  Antidiabetic       Cream   938 mg   \n",
       "1  Ibuprocillin     Antiviral   Injection   337 mg   \n",
       "2    Dextrophen    Antibiotic    Ointment   333 mg   \n",
       "3   Clarinazole    Antifungal       Syrup   362 mg   \n",
       "4   Amoxicillin    Antifungal      Tablet   802 mg   \n",
       "\n",
       "                          Manufacturer Indication    Classification  \n",
       "0                     Roche Holding AG      Virus  Over-the-Counter  \n",
       "1                          CSL Limited  Infection  Over-the-Counter  \n",
       "2                    Johnson & Johnson      Wound      Prescription  \n",
       "3                          AbbVie Inc.       Pain      Prescription  \n",
       "4  Teva Pharmaceutical Industries Ltd.      Wound  Over-the-Counter  "
      ],
      "text/html": [
       "<div>\n",
       "<style scoped>\n",
       "    .dataframe tbody tr th:only-of-type {\n",
       "        vertical-align: middle;\n",
       "    }\n",
       "\n",
       "    .dataframe tbody tr th {\n",
       "        vertical-align: top;\n",
       "    }\n",
       "\n",
       "    .dataframe thead th {\n",
       "        text-align: right;\n",
       "    }\n",
       "</style>\n",
       "<table border=\"1\" class=\"dataframe\">\n",
       "  <thead>\n",
       "    <tr style=\"text-align: right;\">\n",
       "      <th></th>\n",
       "      <th>Name</th>\n",
       "      <th>Category</th>\n",
       "      <th>Dosage Form</th>\n",
       "      <th>Strength</th>\n",
       "      <th>Manufacturer</th>\n",
       "      <th>Indication</th>\n",
       "      <th>Classification</th>\n",
       "    </tr>\n",
       "  </thead>\n",
       "  <tbody>\n",
       "    <tr>\n",
       "      <th>0</th>\n",
       "      <td>Acetocillin</td>\n",
       "      <td>Antidiabetic</td>\n",
       "      <td>Cream</td>\n",
       "      <td>938 mg</td>\n",
       "      <td>Roche Holding AG</td>\n",
       "      <td>Virus</td>\n",
       "      <td>Over-the-Counter</td>\n",
       "    </tr>\n",
       "    <tr>\n",
       "      <th>1</th>\n",
       "      <td>Ibuprocillin</td>\n",
       "      <td>Antiviral</td>\n",
       "      <td>Injection</td>\n",
       "      <td>337 mg</td>\n",
       "      <td>CSL Limited</td>\n",
       "      <td>Infection</td>\n",
       "      <td>Over-the-Counter</td>\n",
       "    </tr>\n",
       "    <tr>\n",
       "      <th>2</th>\n",
       "      <td>Dextrophen</td>\n",
       "      <td>Antibiotic</td>\n",
       "      <td>Ointment</td>\n",
       "      <td>333 mg</td>\n",
       "      <td>Johnson &amp; Johnson</td>\n",
       "      <td>Wound</td>\n",
       "      <td>Prescription</td>\n",
       "    </tr>\n",
       "    <tr>\n",
       "      <th>3</th>\n",
       "      <td>Clarinazole</td>\n",
       "      <td>Antifungal</td>\n",
       "      <td>Syrup</td>\n",
       "      <td>362 mg</td>\n",
       "      <td>AbbVie Inc.</td>\n",
       "      <td>Pain</td>\n",
       "      <td>Prescription</td>\n",
       "    </tr>\n",
       "    <tr>\n",
       "      <th>4</th>\n",
       "      <td>Amoxicillin</td>\n",
       "      <td>Antifungal</td>\n",
       "      <td>Tablet</td>\n",
       "      <td>802 mg</td>\n",
       "      <td>Teva Pharmaceutical Industries Ltd.</td>\n",
       "      <td>Wound</td>\n",
       "      <td>Over-the-Counter</td>\n",
       "    </tr>\n",
       "  </tbody>\n",
       "</table>\n",
       "</div>"
      ]
     },
     "execution_count": 2,
     "metadata": {},
     "output_type": "execute_result"
    }
   ],
   "execution_count": 2
  },
  {
   "metadata": {},
   "cell_type": "markdown",
   "source": "## Get Prompts",
   "id": "fe0ef6243dfb6a67"
  },
  {
   "metadata": {
    "ExecuteTime": {
     "end_time": "2024-06-30T06:46:43.918640Z",
     "start_time": "2024-06-30T06:46:43.910155Z"
    }
   },
   "cell_type": "code",
   "source": [
    "prompts_fp = pathlib.Path('prompts.py')\n",
    "if not prompts_fp.exists():\n",
    "    prompts_url = 'https://raw.githubusercontent.com/techwithtim/PythonAgentAI/main/prompts.py'\n",
    "    prompts = requests.get(prompts_url)\n",
    "    with open('prompts.py', 'w') as file:\n",
    "        file.write(prompts.text)"
   ],
   "id": "50153e89ce19b9ad",
   "outputs": [],
   "execution_count": 3
  },
  {
   "metadata": {
    "ExecuteTime": {
     "end_time": "2024-06-30T06:49:11.084041Z",
     "start_time": "2024-06-30T06:49:09.484151Z"
    }
   },
   "cell_type": "code",
   "source": [
    "# Load the OpenAI API key from the .env file\n",
    "load_dotenv()\n",
    "\n",
    "query = 'What is the dosage form of amoxicillin?'\n",
    "# Use the engine\n",
    "medicine_query_engine = PandasQueryEngine(df=medicines, verbose=True)\n",
    "# medicine_query_engine.update_prompts({'pandas_prompt': new_prompt})\n",
    "# Query the engine\n",
    "medicine_query_engine.query(query)"
   ],
   "id": "1acbd5b63c6c509e",
   "outputs": [
    {
     "name": "stdout",
     "output_type": "stream",
     "text": [
      "> Pandas Instructions:\n",
      "```\n",
      "df[df['Name'] == 'Amoxicillin']['Dosage Form'].values[0]\n",
      "```\n",
      "> Pandas Output: Tablet\n"
     ]
    },
    {
     "data": {
      "text/plain": [
       "Response(response='Tablet', source_nodes=[], metadata={'pandas_instruction_str': \"df[df['Name'] == 'Amoxicillin']['Dosage Form'].values[0]\", 'raw_pandas_output': 'Tablet'})"
      ]
     },
     "execution_count": 8,
     "metadata": {},
     "output_type": "execute_result"
    }
   ],
   "execution_count": 8
  },
  {
   "metadata": {},
   "cell_type": "code",
   "outputs": [],
   "execution_count": null,
   "source": "",
   "id": "ce89756c6682072a"
  }
 ],
 "metadata": {
  "kernelspec": {
   "display_name": "Python 3",
   "language": "python",
   "name": "python3"
  },
  "language_info": {
   "codemirror_mode": {
    "name": "ipython",
    "version": 2
   },
   "file_extension": ".py",
   "mimetype": "text/x-python",
   "name": "python",
   "nbconvert_exporter": "python",
   "pygments_lexer": "ipython2",
   "version": "2.7.6"
  }
 },
 "nbformat": 4,
 "nbformat_minor": 5
}
