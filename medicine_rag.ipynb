{
 "cells": [
  {
   "metadata": {},
   "cell_type": "markdown",
   "source": "## Necessary Imports",
   "id": "8acae9d1ce6c89ed"
  },
  {
   "metadata": {
    "ExecuteTime": {
     "end_time": "2024-06-30T14:14:35.666492Z",
     "start_time": "2024-06-30T14:14:31.413362Z"
    }
   },
   "cell_type": "code",
   "source": [
    "from dotenv import load_dotenv\n",
    "from llama_index.experimental.query_engine import PandasQueryEngine\n",
    "from llama_index.core.tools import QueryEngineTool, ToolMetadata\n",
    "from llama_index.core.agent import ReActAgent\n",
    "from llama_index.llms.openai import OpenAI\n",
    "from prompts import instruction_str, context, new_prompt\n",
    "from note_engine import note_engine\n",
    "import pathlib\n",
    "import requests\n",
    "import pandas as pd"
   ],
   "id": "119d634c2b4829fd",
   "outputs": [],
   "execution_count": 1
  },
  {
   "metadata": {},
   "cell_type": "markdown",
   "source": "## Data Preprocessing",
   "id": "e7038a2046294a47"
  },
  {
   "metadata": {
    "ExecuteTime": {
     "end_time": "2024-06-30T14:14:35.748430Z",
     "start_time": "2024-06-30T14:14:35.666492Z"
    }
   },
   "cell_type": "code",
   "source": [
    "# Read the data as a DataFrame\n",
    "medicines = pd.read_csv('data/medicine_dataset.csv')\n",
    "# Drop any rows with missing values\n",
    "medicines = medicines.dropna()\n",
    "# Print out the first 5 rows of the data\n",
    "medicines.head()"
   ],
   "id": "bd503269d943ae46",
   "outputs": [
    {
     "data": {
      "text/plain": [
       "           Name      Category Dosage Form Strength  \\\n",
       "0   Acetocillin  Antidiabetic       Cream   938 mg   \n",
       "1  Ibuprocillin     Antiviral   Injection   337 mg   \n",
       "2    Dextrophen    Antibiotic    Ointment   333 mg   \n",
       "3   Clarinazole    Antifungal       Syrup   362 mg   \n",
       "4   Amoxicillin    Antifungal      Tablet   802 mg   \n",
       "\n",
       "                          Manufacturer Indication    Classification  \n",
       "0                     Roche Holding AG      Virus  Over-the-Counter  \n",
       "1                          CSL Limited  Infection  Over-the-Counter  \n",
       "2                    Johnson & Johnson      Wound      Prescription  \n",
       "3                          AbbVie Inc.       Pain      Prescription  \n",
       "4  Teva Pharmaceutical Industries Ltd.      Wound  Over-the-Counter  "
      ],
      "text/html": [
       "<div>\n",
       "<style scoped>\n",
       "    .dataframe tbody tr th:only-of-type {\n",
       "        vertical-align: middle;\n",
       "    }\n",
       "\n",
       "    .dataframe tbody tr th {\n",
       "        vertical-align: top;\n",
       "    }\n",
       "\n",
       "    .dataframe thead th {\n",
       "        text-align: right;\n",
       "    }\n",
       "</style>\n",
       "<table border=\"1\" class=\"dataframe\">\n",
       "  <thead>\n",
       "    <tr style=\"text-align: right;\">\n",
       "      <th></th>\n",
       "      <th>Name</th>\n",
       "      <th>Category</th>\n",
       "      <th>Dosage Form</th>\n",
       "      <th>Strength</th>\n",
       "      <th>Manufacturer</th>\n",
       "      <th>Indication</th>\n",
       "      <th>Classification</th>\n",
       "    </tr>\n",
       "  </thead>\n",
       "  <tbody>\n",
       "    <tr>\n",
       "      <th>0</th>\n",
       "      <td>Acetocillin</td>\n",
       "      <td>Antidiabetic</td>\n",
       "      <td>Cream</td>\n",
       "      <td>938 mg</td>\n",
       "      <td>Roche Holding AG</td>\n",
       "      <td>Virus</td>\n",
       "      <td>Over-the-Counter</td>\n",
       "    </tr>\n",
       "    <tr>\n",
       "      <th>1</th>\n",
       "      <td>Ibuprocillin</td>\n",
       "      <td>Antiviral</td>\n",
       "      <td>Injection</td>\n",
       "      <td>337 mg</td>\n",
       "      <td>CSL Limited</td>\n",
       "      <td>Infection</td>\n",
       "      <td>Over-the-Counter</td>\n",
       "    </tr>\n",
       "    <tr>\n",
       "      <th>2</th>\n",
       "      <td>Dextrophen</td>\n",
       "      <td>Antibiotic</td>\n",
       "      <td>Ointment</td>\n",
       "      <td>333 mg</td>\n",
       "      <td>Johnson &amp; Johnson</td>\n",
       "      <td>Wound</td>\n",
       "      <td>Prescription</td>\n",
       "    </tr>\n",
       "    <tr>\n",
       "      <th>3</th>\n",
       "      <td>Clarinazole</td>\n",
       "      <td>Antifungal</td>\n",
       "      <td>Syrup</td>\n",
       "      <td>362 mg</td>\n",
       "      <td>AbbVie Inc.</td>\n",
       "      <td>Pain</td>\n",
       "      <td>Prescription</td>\n",
       "    </tr>\n",
       "    <tr>\n",
       "      <th>4</th>\n",
       "      <td>Amoxicillin</td>\n",
       "      <td>Antifungal</td>\n",
       "      <td>Tablet</td>\n",
       "      <td>802 mg</td>\n",
       "      <td>Teva Pharmaceutical Industries Ltd.</td>\n",
       "      <td>Wound</td>\n",
       "      <td>Over-the-Counter</td>\n",
       "    </tr>\n",
       "  </tbody>\n",
       "</table>\n",
       "</div>"
      ]
     },
     "execution_count": 2,
     "metadata": {},
     "output_type": "execute_result"
    }
   ],
   "execution_count": 2
  },
  {
   "metadata": {},
   "cell_type": "markdown",
   "source": "## Get Prompts",
   "id": "fe0ef6243dfb6a67"
  },
  {
   "metadata": {
    "ExecuteTime": {
     "end_time": "2024-06-30T14:14:35.754646Z",
     "start_time": "2024-06-30T14:14:35.748430Z"
    }
   },
   "cell_type": "code",
   "source": [
    "prompts_fp = pathlib.Path('prompts.py')\n",
    "if not prompts_fp.exists():\n",
    "    prompts_url = 'https://raw.githubusercontent.com/techwithtim/PythonAgentAI/main/prompts.py'\n",
    "    prompts = requests.get(prompts_url)\n",
    "    with open('prompts.py', 'w') as file:\n",
    "        file.write(prompts.text)"
   ],
   "id": "50153e89ce19b9ad",
   "outputs": [],
   "execution_count": 3
  },
  {
   "metadata": {
    "ExecuteTime": {
     "end_time": "2024-06-30T14:14:37.027343Z",
     "start_time": "2024-06-30T14:14:35.757035Z"
    }
   },
   "cell_type": "code",
   "source": [
    "# Load the OpenAI API key from the .env file\n",
    "load_dotenv()\n",
    "\n",
    "query = 'What is the dosage form of amoxicillin?'\n",
    "\n",
    "# Use the engine\n",
    "medicine_query_engine = PandasQueryEngine(df=medicines, instruction_str=instruction_str, verbose=True)\n",
    "\n",
    "medicine_query_engine.update_prompts({'prompt': new_prompt})\n",
    "\n",
    "# Query the engine\n",
    "medicine_query_engine.query(query)"
   ],
   "id": "1acbd5b63c6c509e",
   "outputs": [
    {
     "name": "stdout",
     "output_type": "stream",
     "text": [
      "> Pandas Instructions:\n",
      "```\n",
      "df[df['Name'] == 'Amoxicillin']['Dosage Form'].values[0]\n",
      "```\n",
      "> Pandas Output: Tablet\n"
     ]
    },
    {
     "data": {
      "text/plain": [
       "Response(response='Tablet', source_nodes=[], metadata={'pandas_instruction_str': \"df[df['Name'] == 'Amoxicillin']['Dosage Form'].values[0]\", 'raw_pandas_output': 'Tablet'})"
      ]
     },
     "execution_count": 4,
     "metadata": {},
     "output_type": "execute_result"
    }
   ],
   "execution_count": 4
  },
  {
   "metadata": {},
   "cell_type": "markdown",
   "source": "## Query the Engine",
   "id": "a7a2149a8d48bb8c"
  },
  {
   "metadata": {
    "ExecuteTime": {
     "end_time": "2024-06-30T14:14:39.009247Z",
     "start_time": "2024-06-30T14:14:37.029682Z"
    }
   },
   "cell_type": "code",
   "source": [
    "from pdf import amoxicillin_engine\n",
    "\n",
    "# Create tools for the LLM to use\n",
    "tools = [\n",
    "    note_engine,\n",
    "    QueryEngineTool(query_engine=medicine_query_engine, metadata=ToolMetadata(name='medicine_data', description='This gives information about medicines')),\n",
    "    QueryEngineTool(query_engine=amoxicillin_engine, metadata=ToolMetadata(name='amoxicillin_data', description='This gives detailed information about amoxicillin'))\n",
    "]\n",
    "\n",
    "# Initialize the LLM and the agent\n",
    "llm = OpenAI(model='gpt-3.5-turbo-16k')\n",
    "agent = ReActAgent.from_tools(tools=tools, llm=llm, verbose=True, context=context)"
   ],
   "id": "54ebd91a0f843155",
   "outputs": [],
   "execution_count": 5
  },
  {
   "metadata": {
    "ExecuteTime": {
     "end_time": "2024-06-30T14:15:22.223069Z",
     "start_time": "2024-06-30T14:14:39.009247Z"
    }
   },
   "cell_type": "code",
   "source": [
    "# Define a prompt to query the agent\n",
    "while (prompt := input('Enter a prompt (q to quit): ')) != 'q':\n",
    "    result = agent.query(prompt)\n",
    "    print(result)"
   ],
   "id": "617aeb979de16661",
   "outputs": [
    {
     "name": "stdout",
     "output_type": "stream",
     "text": [
      "\u001B[1;3;38;5;200mThought: The current language of the user is English. I need to use a tool to help me answer the question.\n",
      "Action: amoxicillin_data\n",
      "Action Input: {'input': 'creation year'}\n",
      "\u001B[0m\u001B[1;3;34mObservation: 2014\n",
      "\u001B[0m\u001B[1;3;38;5;200mThought: I can answer without using any more tools. I'll use the user's language to answer.\n",
      "Answer: Amoxicillin was created in 2014.\n",
      "\u001B[0mAmoxicillin was created in 2014.\n",
      "\u001B[1;3;38;5;200mThought: The user is asking about the manufacturer of a medicine. I can use the \"medicine_data\" tool to provide this information.\n",
      "Action: medicine_data\n",
      "Action Input: {'input': 'manufacturer'}\n",
      "\u001B[0m> Pandas Instructions:\n",
      "```\n",
      "df['Manufacturer']\n",
      "```\n",
      "> Pandas Output: 0                           Roche Holding AG\n",
      "1                                CSL Limited\n",
      "2                          Johnson & Johnson\n",
      "3                                AbbVie Inc.\n",
      "4        Teva Pharmaceutical Industries Ltd.\n",
      "                        ...                 \n",
      "49995                  Eli Lilly and Company\n",
      "49996                            CSL Limited\n",
      "49997                  Gilead Sciences, Inc.\n",
      "49998                            AbbVie Inc.\n",
      "49999    Teva Pharmaceutical Industries Ltd.\n",
      "Name: Manufacturer, Length: 50000, dtype: object\n",
      "\u001B[1;3;34mObservation: 0                           Roche Holding AG\n",
      "1                                CSL Limited\n",
      "2                          Johnson & Johnson\n",
      "3                                AbbVie Inc.\n",
      "4        Teva Pharmaceutical Industries Ltd.\n",
      "                        ...                 \n",
      "49995                  Eli Lilly and Company\n",
      "49996                            CSL Limited\n",
      "49997                  Gilead Sciences, Inc.\n",
      "49998                            AbbVie Inc.\n",
      "49999    Teva Pharmaceutical Industries Ltd.\n",
      "Name: Manufacturer, Length: 50000, dtype: object\n",
      "\u001B[0m\u001B[1;3;38;5;200mThought: The manufacturer of the medicine is Roche Holding AG.\n",
      "Answer: Roche Holding AG\n",
      "\u001B[0mRoche Holding AG\n"
     ]
    }
   ],
   "execution_count": 6
  }
 ],
 "metadata": {
  "kernelspec": {
   "display_name": "Python 3",
   "language": "python",
   "name": "python3"
  },
  "language_info": {
   "codemirror_mode": {
    "name": "ipython",
    "version": 2
   },
   "file_extension": ".py",
   "mimetype": "text/x-python",
   "name": "python",
   "nbconvert_exporter": "python",
   "pygments_lexer": "ipython2",
   "version": "2.7.6"
  }
 },
 "nbformat": 4,
 "nbformat_minor": 5
}
